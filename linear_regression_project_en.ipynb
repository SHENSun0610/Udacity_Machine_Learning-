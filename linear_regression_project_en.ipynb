{
 "cells": [
  {
   "cell_type": "markdown",
   "metadata": {},
   "source": [
    "# 1 Matrix operations\n",
    "\n",
    "## 1.1 Create a 4*4 identity matrix"
   ]
  },
  {
   "cell_type": "code",
   "execution_count": 64,
   "metadata": {
    "collapsed": false
   },
   "outputs": [
    {
     "name": "stdout",
     "output_type": "stream",
     "text": [
      "[[1, 0, 0, 0], [0, 1, 0, 0], [0, 0, 1, 0], [0, 0, 0, 1]]\n"
     ]
    }
   ],
   "source": [
    "#This project is designed to get familiar with python list and linear algebra\n",
    "#You cannot use import any library yourself, especially numpy\n",
    "\n",
    "A = [[1,2,3], \n",
    "     [2,3,3], \n",
    "     [1,2,5]]\n",
    "\n",
    "B = [[1,2,3,5], \n",
    "     [2,3,3,5], \n",
    "     [1,2,5,1]]\n",
    "\n",
    "#TODO create a 4*4 identity matrix \n",
    "I = [[1,0,0,0],\n",
    "     [0,1,0,0],\n",
    "     [0,0,1,0],\n",
    "     [0,0,0,1]]\n",
    "print I \n"
   ]
  },
  {
   "cell_type": "markdown",
   "metadata": {},
   "source": [
    "## 1.2 get the width and height of a matrix. "
   ]
  },
  {
   "cell_type": "code",
   "execution_count": 65,
   "metadata": {
    "collapsed": false
   },
   "outputs": [],
   "source": [
    "#TODO Get the height and weight of a matrix.\n",
    "def shape(M): \n",
    "    return len(M),len(M[0])\n"
   ]
  },
  {
   "cell_type": "markdown",
   "metadata": {},
   "source": [
    "## 1.3 round all elements in M to certain decimal points"
   ]
  },
  {
   "cell_type": "code",
   "execution_count": 67,
   "metadata": {
    "collapsed": false
   },
   "outputs": [],
   "source": [
    "# TODO in-place operation, no return value\n",
    "# TODO round all elements in M to decPts\n",
    "def matxRound(M, decPts=4):\n",
    "    row,col = shape(M)\n",
    "    for i in range(row):\n",
    "        for j in range(col):\n",
    "            M[i][j]=round(M[i][j],decPts)\n"
   ]
  },
  {
   "cell_type": "markdown",
   "metadata": {},
   "source": [
    "## 1.4 compute transpose of M"
   ]
  },
  {
   "cell_type": "code",
   "execution_count": 68,
   "metadata": {
    "collapsed": false
   },
   "outputs": [],
   "source": [
    "#TODO compute transpose of M\n",
    "def transpose(M):\n",
    "    tMtx = []\n",
    "    for row in range(0, len(M[0])):\n",
    "        tRow = []\n",
    "        for col in range(0, len(M)):\n",
    "            ele = M[col][row]\n",
    "            tRow.append(ele)\n",
    "        tMtx.append(tRow)\n",
    "    return(tMtx)\n"
   ]
  },
  {
   "cell_type": "markdown",
   "metadata": {},
   "source": [
    "## 1.5 compute AB. return None if the dimensions don't match"
   ]
  },
  {
   "cell_type": "code",
   "execution_count": 91,
   "metadata": {
    "collapsed": false
   },
   "outputs": [],
   "source": [
    "#TODO compute matrix multiplication AB, return None if the dimensions don't match\n",
    "def matxMultiply(A, B):\n",
    "    rows_A,cols_A = shape(A)\n",
    "    rows_B,cols_B = shape(B)\n",
    "    if cols_A != rows_B: \n",
    "        return None\n",
    "    return[[sum(a*b for a,b in zip(rows,cols)) for cols in zip(*B)] for rows in A]\n"
   ]
  },
  {
   "cell_type": "markdown",
   "metadata": {},
   "source": [
    "## 1.6 Test your implementation"
   ]
  },
  {
   "cell_type": "code",
   "execution_count": 93,
   "metadata": {
    "collapsed": false
   },
   "outputs": [],
   "source": [
    "#TODO test the shape function\n",
    "shape(B)\n",
    "#TODO test the round function\n",
    "matxRound(B)\n",
    "#TODO test the transpose funtion\n",
    "transpose(B)\n",
    "#TODO test the matxMultiply function, when the dimensions don't match\n",
    "matxMultiply(A,I)\n",
    "#TODO test the matxMultiply function, when the dimensions do match\\\n",
    "matxMultiply(A,B)"
   ]
  },
  {
   "cell_type": "markdown",
   "metadata": {},
   "source": [
    "# 2 Gaussian Jordan Elimination\n",
    "\n",
    "## 2.1 Compute augmented Matrix \n",
    "\n",
    "$ A = \\begin{bmatrix}\n",
    "    a_{11}    & a_{12} & ... & a_{1n}\\\\\n",
    "    a_{21}    & a_{22} & ... & a_{2n}\\\\\n",
    "    a_{31}    & a_{22} & ... & a_{3n}\\\\\n",
    "    ...    & ... & ... & ...\\\\\n",
    "    a_{n1}    & a_{n2} & ... & a_{nn}\\\\\n",
    "\\end{bmatrix} , b = \\begin{bmatrix}\n",
    "    b_{1}  \\\\\n",
    "    b_{2}  \\\\\n",
    "    b_{3}  \\\\\n",
    "    ...    \\\\\n",
    "    b_{n}  \\\\\n",
    "\\end{bmatrix}$\n",
    "\n",
    "Return $ Ab = \\begin{bmatrix}\n",
    "    a_{11}    & a_{12} & ... & a_{1n} & b_{1}\\\\\n",
    "    a_{21}    & a_{22} & ... & a_{2n} & b_{2}\\\\\n",
    "    a_{31}    & a_{22} & ... & a_{3n} & b_{3}\\\\\n",
    "    ...    & ... & ... & ...& ...\\\\\n",
    "    a_{n1}    & a_{n2} & ... & a_{nn} & b_{n} \\end{bmatrix}$"
   ]
  },
  {
   "cell_type": "code",
   "execution_count": 94,
   "metadata": {
    "collapsed": true
   },
   "outputs": [],
   "source": [
    "#TODO construct the augment matrix of matrix A and column vector b, assuming A and b have same number of rows\n",
    "def augmentMatrix(A, b):\n",
    "    rows_A,cols_A = shape(A)\n",
    "    rows_b,cols_b = shape(b)\n",
    "    if rows_A != rows_b:\n",
    "        return None\n",
    "    Ab = [A+b for A,b in zip(A,b)]\n",
    "    return Ab"
   ]
  },
  {
   "cell_type": "markdown",
   "metadata": {},
   "source": [
    "## 2.2 Basic row operations\n",
    "- exchange two rows\n",
    "- scale a row\n",
    "- add a scaled row to another"
   ]
  },
  {
   "cell_type": "code",
   "execution_count": 71,
   "metadata": {
    "collapsed": false
   },
   "outputs": [],
   "source": [
    "# TODO r1 <---> r2\n",
    "# TODO in-place operation, no return value\n",
    "def swapRows(M, r1, r2):\n",
    "    temp = M[r2]\n",
    "    M[r2] = M[r1]\n",
    "    M[r1] = temp\n",
    "\n",
    "# TODO r1 <--- r1 * scale\n",
    "# TODO in-place operation, no return value\n",
    "\n",
    "def scaleRow(M, r1, scale): \n",
    "    if scale == 0:\n",
    "        raise ValueError('None')\n",
    "        \n",
    "    else:\n",
    "        \n",
    "        M[r1] = [x*scale for x in M[r1]]\n",
    "        \n",
    "\n",
    "# TODO r1 <--- r1 + r2*scale\n",
    "# TODO in-place operation, no return value\n",
    "def addScaledRow(M, r1, r2, scale):\n",
    "    M[r1] = [x+y*scale for x,y in zip(M[r1],M[r2])]\n",
    "    "
   ]
  },
  {
   "cell_type": "markdown",
   "metadata": {},
   "source": [
    "## 2.3  Gauss-jordan method to solve Ax = b\n",
    "\n",
    "### Hint：\n",
    "\n",
    "Step 1: Check if A and b have same number of rows\n",
    "Step 2: Construct augmented matrix Ab\n",
    "\n",
    "Step 3: Column by column, transform Ab to reduced row echelon form [wiki link](https://en.wikipedia.org/wiki/Row_echelon_form#Reduced_row_echelon_form)\n",
    "    \n",
    "    for every column of Ab (except the last one)\n",
    "        column c is the current column\n",
    "        Find in column c, at diagnal and under diagnal (row c ~ N) the maximum absolute value\n",
    "        If the maximum absolute value is 0\n",
    "            then A is singular, return None （Prove this proposition in Question 2.4）\n",
    "        else\n",
    "            Apply row operation 1, swap the row of maximum with the row of diagnal element (row c)\n",
    "            Apply row operation 2, scale the diagonal element of column c to 1\n",
    "            Apply row operation 3 mutiple time, eliminate every other element in column c\n",
    "            \n",
    "Step 4: return the last column of Ab\n",
    "\n",
    "### Remark：\n",
    "We don't use the standard algorithm first transfering Ab to row echelon form and then to reduced row echelon form.  Instead, we arrives directly at reduced row echelon form. If you are familiar with the stardard way, try prove to yourself that they are equivalent. "
   ]
  },
  {
   "cell_type": "code",
   "execution_count": 74,
   "metadata": {
    "collapsed": false
   },
   "outputs": [],
   "source": [
    "#TODO implement gaussian jordan method to solve Ax = b\n",
    "\n",
    "\"\"\" Gauss-jordan method to solve x such that Ax = b.\n",
    "        A: square matrix, list of lists\n",
    "        b: column vector, list of lists\n",
    "        decPts: degree of rounding, default value 4\n",
    "        epsilon: threshold for zero, default value 1.0e-16\n",
    "        \n",
    "    return x such that Ax = b, list of lists \n",
    "    return None if A and b have same height\n",
    "    return None if A is (almost) singular\n",
    "\"\"\"\n",
    "\n",
    "def gj_Solve(A, b, decPts=4, epsilon = 1.0e-16):\n",
    "    rows_A,cols_A = shape(A)\n",
    "    rows_b,cols_b = shape(b)\n",
    "    if rows_A == rows_b:\n",
    "        Ab = augmentMatrix(A, b)                \n",
    "        row_Ab,col_Ab = shape(Ab)\n",
    "        for j in range(cols_A):\n",
    "            i = j                              \n",
    "            max_list = [abs(Ab[i][j]) for i in range(j,row_Ab) ]\n",
    "            max_index = max_list.index(max(max_list)) + j \n",
    "            max_value = Ab[max_index][j]       \n",
    "            if max(max_list) < epsilon:       \n",
    "                return None \n",
    "            swapRows(Ab,j,max_index)          \n",
    "            scaleRow(Ab,j,1./max_value)       \n",
    "            for m in range(0,j):             \n",
    "                m_value = Ab[m][j]\n",
    "                addScaledRow(Ab,m,j,-m_value)\n",
    "            for m in range(j+1,row_Ab):      \n",
    "                m_value = Ab[m][j]\n",
    "                addScaledRow(Ab,m,j,-m_value) \n",
    "        matxRound(Ab,decPts)                 \n",
    "        x = [[Ab[i][col_Ab-1]] for i in range(row_Ab)] \n",
    "        return x\n",
    "    return None"
   ]
  },
  {
   "cell_type": "markdown",
   "metadata": {},
   "source": [
    "## 2.4 Prove the following proposition:\n",
    "\n",
    "**If square matrix A can be divided into four parts: ** \n",
    "\n",
    "$ A = \\begin{bmatrix}\n",
    "1 &0 &0 &a &e &p \\\\\n",
    "0 &1 &0&b &f &o \\\\\n",
    "0 &0 &1 &c &g &n \\\\\n",
    "0 &0 &0 &0 &h &m \\\\\n",
    "0 &0 &0 &0 &i &l \\\\\n",
    "0 &0 &0 &0 &j &k \\\\\n",
    "\\end{bmatrix} $, where I is the identity matrix, Z is all zero and the first column of Y is all zero, \n",
    "$\\begin{bmatrix} a \\\\b \\\\c \\\\0 \\\\0 \\\\0 \\end{bmatrix}$\n",
    "$= a\\times\n",
    "\\begin{bmatrix} 1 \\\\0 \\\\0 \\\\0 \\\\0 \\\\0 \\end{bmatrix}$\n",
    "$+ b\\times \n",
    "\\begin{bmatrix} 0 \\\\1 \\\\0 \\\\0 \\\\0 \\\\0 \\end{bmatrix}$ \n",
    "$+ c\\times \n",
    "\\begin{bmatrix} 0 \\\\0 \\\\1 \\\\0 \\\\0 \\\\0 \\end{bmatrix}，$\n",
    "The (a,b,c,0,0,0) is the first three columns' linear combination \n",
    "**then A is singular.**\n",
    "\n",
    "Hint: There are mutiple ways to prove this problem.  \n",
    "- consider the rank of Y and A\n",
    "- consider the determinate of Y and A \n",
    "- consider certain column is the linear combination of other columns"
   ]
  },
  {
   "cell_type": "markdown",
   "metadata": {},
   "source": [
    "TODO Please use latex （refering to the latex in problem may help）\n",
    "\n",
    "TODO Proof："
   ]
  },
  {
   "cell_type": "markdown",
   "metadata": {},
   "source": [
    "## 2.5 Test your gj_Solve() implementation"
   ]
  },
  {
   "cell_type": "code",
   "execution_count": 95,
   "metadata": {
    "collapsed": false
   },
   "outputs": [
    {
     "name": "stdout",
     "output_type": "stream",
     "text": [
      "None\n",
      "[[-9.0], [-5.0], [7.0]]\n",
      "[[4.0], [6.0], [-1.0]]\n"
     ]
    }
   ],
   "source": [
    "# construct A and b where A is singular\n",
    "A1 = [[0,0,1,1],[0,1,1,1],[0,0,0,1],[0,1,0,1]]\n",
    "b1 = [[1],[2],[3]]\n",
    "x1 = gj_Solve(A1, b1, decPts=4, epsilon = 1.0e-16)\n",
    "print x1\n",
    "# construct A and b where A is not singular\n",
    "# solve x for  Ax = b \n",
    "# compute Ax\n",
    "A = [[2,4,6],[2,5,7],[-2,-6,-7]]\n",
    "b = [[4] ,[6], [-1]]\n",
    "x = gj_Solve(A, b, decPts=4, epsilon = 1.0e-16)\n",
    "print x \n",
    "# compare Ax and b\n",
    "Ax = matxMultiply(A, x)\n",
    "print Ax\n",
    "# TODO"
   ]
  },
  {
   "cell_type": "markdown",
   "metadata": {},
   "source": [
    "# 3 Linear Regression: \n",
    "\n",
    "## 3.1 Compute the gradient of loss function with respect to parameters \n",
    "## (Choose one between two 3.1 questions)\n",
    "\n",
    "We define loss funtion E as \n",
    "$$\n",
    "E(m, b) = \\sum_{i=1}^{n}{(y_i - mx_i - b)^2} = E = \\sum_{i=1}^{n}\n",
    "{(m^2x_i^2 - 2(y_i-b)mx_i+(y_i-b)^2}\n",
    "$$\n",
    "\n",
    "\n",
    "$$\n",
    "\\frac{\\partial E}{\\partial m} \n",
    "= \\frac{\\partial \\sum_{i=1}^{n}{(m^2x_i^2 - 2(y_i-b)mx_i+(y_i-b)^2) }}{\\partial m}\n",
    "=\\sum_{i=1}^{n}{2x_i^2m-2(y_i-b)x_i}\n",
    "=\\sum_{i=1}^{n}{-2x_i(y_i - mx_i - b)}\n",
    "$$\n",
    "\n",
    "$$\n",
    "\\frac{\\partial E}{\\partial b}\n",
    "= \\frac{\\partial \\sum_{i=1}^{n}{(m^2x_i^2 - 2(y_i-b)mx_i+(y_i-b)^2) }}{\\partial b}\n",
    "= \\sum_{i=1}^{n}{2mx_i-2y_i+2b}\n",
    "=\\sum_{i=1}^{n}{-2(y_i - mx_i - b)}\n",
    "$$\n",
    "\n",
    "$$\n",
    "\\begin{bmatrix}\n",
    "    \\frac{\\partial E}{\\partial m} \\\\\n",
    "    \\frac{\\partial E}{\\partial b} \n",
    "\\end{bmatrix}\n",
    "= \\begin{bmatrix}\n",
    "    \\sum_{i=1}^{n}{-2x_i(y_i - mx_i - b)} \\\\\n",
    "    \\sum_{i=1}^{n}{-2(y_i - mx_i - b)} \\\\ \n",
    "\\end{bmatrix}\n",
    "$$\n",
    "\n",
    "$$\n",
    "=\\begin{bmatrix}\n",
    "    \\sum_{i=1}^{n}{-2x_iy_i} + \\sum_{i=1}^{n}{2x_i(mx_i + b)} \\\\\n",
    "    \\sum_{i=1}^{n}{-2y_i} + \\sum_{i=1}^{n}{2(mx_i + b)} \\\\ \n",
    "\\end{bmatrix}\n",
    "$$\n",
    "\n",
    "$$\n",
    "=\\begin{bmatrix}\n",
    "    \\sum_{i=1}^{n}{-2x_iy_i}  \\\\\n",
    "    \\sum_{i=1}^{n}{-2y_i}  \\\\ \n",
    "\\end{bmatrix}+\n",
    "\\begin{bmatrix}\n",
    "    \\sum_{i=1}^{n}{2x_i(mx_i + b)} \\\\\n",
    "     \\sum_{i=1}^{n}{2(mx_i + b)} \\\\ \n",
    "\\end{bmatrix}\n",
    "$$\n",
    "\n",
    "$$\n",
    "=-2\\begin{bmatrix}\n",
    "    \\sum_{i=1}^{n}{x_iy_i}  \\\\\n",
    "    \\sum_{i=1}^{n}{y_i}  \\\\ \n",
    "\\end{bmatrix}+ \n",
    "2\\begin{bmatrix}\n",
    "    \\sum_{i=1}^{n}{mx_ix_i} + \\sum_{i=1}^{n}{x_ib)} \\\\\n",
    "     \\sum_{i=1}^{n}{mx_i} + nb \\\\ \n",
    "\\end{bmatrix}\n",
    "$$\n",
    "\n",
    "$$\n",
    "= -2\\begin{bmatrix}\n",
    "    x_i &x_2 &... &x_n  \\\\\n",
    "    1 &1 &... &1  \\\\ \n",
    "\\end{bmatrix} \\times\n",
    "\\begin{bmatrix}\n",
    "    y_1  \\\\\n",
    "    y_2  \\\\\n",
    "    ... \\\\\n",
    "    y_n \\\\\n",
    "\\end{bmatrix}+ \n",
    "2\\begin{bmatrix}\n",
    "    \\sum_{i=1}^{n}{x_ix_i} & \\sum_{i=1}^{n}{x_i} \\\\\n",
    "     \\sum_{i=1}^{n}{x_i} &n \\\\ \n",
    "\\end{bmatrix}\\times\n",
    "\\begin{bmatrix}\n",
    "    m  \\\\\n",
    "    b \\\\\n",
    "\\end{bmatrix}\n",
    "$$\n",
    "\n",
    "$$\n",
    "= -2\\begin{bmatrix}\n",
    "    x_i &x_2 &... &x_n  \\\\\n",
    "    1 &1 &... &1  \\\\ \n",
    "\\end{bmatrix} \\times\n",
    "\\begin{bmatrix}\n",
    "    y_1  \\\\\n",
    "    y_2  \\\\\n",
    "    ... \\\\\n",
    "    y_n \\\\\n",
    "\\end{bmatrix}+ \n",
    "2\\begin{bmatrix}\n",
    "     x_i &x_2 &... &x_n  \\\\\n",
    "     1 &1 &... &1  \\\\ \n",
    "\\end{bmatrix}\n",
    "\\times\\begin{bmatrix}\n",
    "    x_1 & 1 \\\\\n",
    "    x_2 & 1\\\\\n",
    "    ... & ...\\\\\n",
    "    x_n & 1 \\\\\n",
    "\\end{bmatrix}\n",
    "\\times\\begin{bmatrix}\n",
    "    m  \\\\\n",
    "    b \\\\\n",
    "\\end{bmatrix}\n",
    "$$\n",
    "\n",
    "$$\n",
    "=2X^TXh - 2X^TY\n",
    "$$\n"
   ]
  },
  {
   "cell_type": "markdown",
   "metadata": {},
   "source": [
    "TODO Please use latex （refering to the latex in problem may help）\n",
    "\n",
    "TODO Proof："
   ]
  },
  {
   "cell_type": "markdown",
   "metadata": {},
   "source": [
    "## 3.1 Compute the gradient of loss function with respect to parameters \n",
    "## (Choose one between two 3.1 questions)\n",
    "\n",
    "Proves that \n",
    "$$\n",
    "E = Y^TY -2(Xh)^TY + (Xh)^TXh\n",
    "$$\n",
    "\n",
    "$$\n",
    "\\frac{\\partial E}{\\partial h} = 2X^TXh - 2X^TY\n",
    "$$\n",
    "\n",
    "$$ \n",
    "\\text{,where }\n",
    "Y =  \\begin{bmatrix}\n",
    "    y_1 \\\\\n",
    "    y_2 \\\\\n",
    "    ... \\\\\n",
    "    y_n\n",
    "\\end{bmatrix}\n",
    ",\n",
    "X =  \\begin{bmatrix}\n",
    "    x_1 & 1 \\\\\n",
    "    x_2 & 1\\\\\n",
    "    ... & ...\\\\\n",
    "    x_n & 1 \\\\\n",
    "\\end{bmatrix},\n",
    "h =  \\begin{bmatrix}\n",
    "    m \\\\\n",
    "    b \\\\\n",
    "\\end{bmatrix}\n",
    "$$"
   ]
  },
  {
   "cell_type": "markdown",
   "metadata": {},
   "source": [
    "TODO Please use latex （refering to the latex in problem may help）\n",
    "\n",
    "TODO Proof："
   ]
  },
  {
   "cell_type": "markdown",
   "metadata": {},
   "source": [
    "## 3.2  Linear Regression\n",
    "### Solve equation $X^TXh = X^TY $ to compute the best parameter for linear regression."
   ]
  },
  {
   "cell_type": "code",
   "execution_count": 96,
   "metadata": {
    "collapsed": false
   },
   "outputs": [],
   "source": [
    "#TODO implement linear regression \n",
    "'''\n",
    "points: list of (x,y) tuple\n",
    "return m and b\n",
    "'''\n",
    "def linearRegression(xy):\n",
    "    x = [[i,1] for i in transpose(xy)[0]]\n",
    "    xT = transpose(x)\n",
    "    y = [[i]for i in transpose(xy)[1]]\n",
    "    xT_x = matxMultiply(xT,x)\n",
    "    xT_y = matxMultiply(xT,y)\n",
    "    x=gj_Solve(xT_x, xT_y, decPts=4, epsilon = 1.0e-16)\n",
    "    return x"
   ]
  },
  {
   "cell_type": "markdown",
   "metadata": {},
   "source": [
    "## 3.3 Test your linear regression implementation"
   ]
  },
  {
   "cell_type": "code",
   "execution_count": 97,
   "metadata": {
    "collapsed": false
   },
   "outputs": [
    {
     "name": "stdout",
     "output_type": "stream",
     "text": [
      "[[8.0001], [8.9689]]\n"
     ]
    }
   ],
   "source": [
    "#TODO Construct the linear function\n",
    "\n",
    "#TODO Construct points with gaussian noise\n",
    "import random\n",
    "A = [(i,8*i+9+random.gauss(0,1))for i in range(500)]\n",
    "\n",
    "h = linearRegression(A)\n",
    "print h \n",
    "#TODO Compute m and b and compare with ground truth"
   ]
  },
  {
   "cell_type": "markdown",
   "metadata": {},
   "source": [
    "## 4.1 Unittests\n",
    "\n",
    "Please make sure yout implementation passed all the unittests"
   ]
  },
  {
   "cell_type": "code",
   "execution_count": 98,
   "metadata": {
    "collapsed": false
   },
   "outputs": [
    {
     "name": "stderr",
     "output_type": "stream",
     "text": [
      "test_addScaleRow (__main__.LinearRegressionTestCase) ... ok\n",
      "test_augmentMatrix (__main__.LinearRegressionTestCase) ... ok\n",
      "test_gj_Solve (__main__.LinearRegressionTestCase) ... ok\n",
      "test_matxMultiply (__main__.LinearRegressionTestCase) ... ok\n",
      "test_matxRound (__main__.LinearRegressionTestCase) ... ok\n",
      "test_scaleRow (__main__.LinearRegressionTestCase) ... ok\n",
      "test_shape (__main__.LinearRegressionTestCase) ... ok\n",
      "test_swapRows (__main__.LinearRegressionTestCase) ... ok\n",
      "test_transpose (__main__.LinearRegressionTestCase) ... ok\n",
      "\n",
      "----------------------------------------------------------------------\n",
      "Ran 9 tests in 0.149s\n",
      "\n",
      "OK\n"
     ]
    },
    {
     "data": {
      "text/plain": [
       "<unittest.runner.TextTestResult run=9 errors=0 failures=0>"
      ]
     },
     "execution_count": 98,
     "metadata": {},
     "output_type": "execute_result"
    }
   ],
   "source": [
    "import unittest\n",
    "import numpy as np\n",
    "\n",
    "from decimal import *\n",
    "\n",
    "class LinearRegressionTestCase(unittest.TestCase):\n",
    "    \"\"\"Test for linear regression project\"\"\"\n",
    "\n",
    "    def test_shape(self):\n",
    "\n",
    "        for _ in range(10):\n",
    "            r,c = np.random.randint(low=1,high=25,size=2)\n",
    "            matrix = np.random.randint(low=-10,high=10,size=(r,c))\n",
    "            self.assertEqual(shape(matrix.tolist()),(r,c))\n",
    "\n",
    "\n",
    "    def test_matxRound(self):\n",
    "\n",
    "        for decpts in range(10):\n",
    "            r,c = np.random.randint(low=1,high=25,size=2)\n",
    "            matrix = np.random.random((r,c))\n",
    "\n",
    "            mat = matrix.tolist()\n",
    "            dec_true = [[Decimal(str(round(num,decpts))) for num in row] for row in mat]\n",
    "\n",
    "            matxRound(mat,decpts)\n",
    "            dec_test = [[Decimal(str(num)) for num in row] for row in mat]\n",
    "\n",
    "            res = Decimal('0')\n",
    "            for i in range(len(mat)):\n",
    "                for j in range(len(mat[0])):\n",
    "                    res += dec_test[i][j].compare_total(dec_true[i][j])\n",
    "\n",
    "            self.assertEqual(res,Decimal('0'))\n",
    "\n",
    "\n",
    "    def test_transpose(self):\n",
    "        for _ in range(10):\n",
    "            r,c = np.random.randint(low=1,high=25,size=2)\n",
    "            matrix = np.random.random((r,c))\n",
    "\n",
    "            mat = matrix.tolist()\n",
    "            t = np.array(transpose(mat))\n",
    "\n",
    "            self.assertEqual(t.shape,(c,r))\n",
    "            self.assertTrue((matrix.T == t).all())\n",
    "\n",
    "\n",
    "    def test_matxMultiply(self):\n",
    "\n",
    "        for _ in range(10):\n",
    "            r,d,c = np.random.randint(low=1,high=25,size=3)\n",
    "            mat1 = np.random.randint(low=-10,high=10,size=(r,d)) \n",
    "            mat2 = np.random.randint(low=-5,high=5,size=(d,c)) \n",
    "            dotProduct = np.dot(mat1,mat2)\n",
    "\n",
    "            dp = np.array(matxMultiply(mat1,mat2))\n",
    "\n",
    "            self.assertTrue((dotProduct == dp).all())\n",
    "\n",
    "\n",
    "    def test_augmentMatrix(self):\n",
    "\n",
    "        for _ in range(10):\n",
    "            r,c = np.random.randint(low=1,high=25,size=2)\n",
    "            A = np.random.randint(low=-10,high=10,size=(r,c))\n",
    "            b = np.random.randint(low=-10,high=10,size=(r,1))\n",
    "\n",
    "            Ab = np.array(augmentMatrix(A.tolist(),b.tolist()))\n",
    "            ab = np.hstack((A,b))\n",
    "\n",
    "            self.assertTrue((Ab == ab).all())\n",
    "\n",
    "    def test_swapRows(self):\n",
    "        for _ in range(10):\n",
    "            r,c = np.random.randint(low=1,high=25,size=2)\n",
    "            matrix = np.random.random((r,c))\n",
    "\n",
    "            mat = matrix.tolist()\n",
    "\n",
    "            r1, r2 = np.random.randint(0,r, size = 2)\n",
    "            swapRows(mat,r1,r2)\n",
    "\n",
    "            matrix[[r1,r2]] = matrix[[r2,r1]]\n",
    "\n",
    "            self.assertTrue((matrix == np.array(mat)).all())\n",
    "\n",
    "    def test_scaleRow(self):\n",
    "\n",
    "        for _ in range(10):\n",
    "            r,c = np.random.randint(low=1,high=25,size=2)\n",
    "            matrix = np.random.random((r,c))\n",
    "\n",
    "            mat = matrix.tolist()\n",
    "\n",
    "            rr = np.random.randint(0,r)\n",
    "            with self.assertRaises(ValueError):\n",
    "                scaleRow(mat,rr,0)\n",
    "\n",
    "            scale = np.random.randint(low=1,high=10)\n",
    "            scaleRow(mat,rr,scale)\n",
    "            matrix[rr] *= scale\n",
    "\n",
    "            self.assertTrue((matrix == np.array(mat)).all())\n",
    "    \n",
    "    def test_addScaleRow(self):\n",
    "\n",
    "        for _ in range(10):\n",
    "            r,c = np.random.randint(low=1,high=25,size=2)\n",
    "            matrix = np.random.random((r,c))\n",
    "\n",
    "            mat = matrix.tolist()\n",
    "\n",
    "            r1,r2 = np.random.randint(0,r,size=2)\n",
    "\n",
    "            scale = np.random.randint(low=1,high=10)\n",
    "            addScaledRow(mat,r1,r2,scale)\n",
    "            matrix[r1] += scale * matrix[r2]\n",
    "\n",
    "            self.assertTrue((matrix == np.array(mat)).all())\n",
    "\n",
    "\n",
    "    def test_gj_Solve(self):\n",
    "\n",
    "        for _ in range(10):\n",
    "            r = np.random.randint(low=3,high=10)\n",
    "            A = np.random.randint(low=-10,high=10,size=(r,r))\n",
    "            b = np.arange(r).reshape((r,1))\n",
    "\n",
    "            x = gj_Solve(A.tolist(),b.tolist())\n",
    "            if np.linalg.matrix_rank(A) < r:\n",
    "                self.assertEqual(x,None)\n",
    "            else:\n",
    "                Ax = np.dot(A,np.array(x))\n",
    "                loss = np.mean((Ax - b)**2)\n",
    "                # print Ax\n",
    "                # print loss\n",
    "                self.assertTrue(loss<0.1)\n",
    "\n",
    "\n",
    "suite = unittest.TestLoader().loadTestsFromTestCase(LinearRegressionTestCase)\n",
    "unittest.TextTestRunner(verbosity=3).run(suite)"
   ]
  },
  {
   "cell_type": "code",
   "execution_count": null,
   "metadata": {
    "collapsed": true
   },
   "outputs": [],
   "source": []
  }
 ],
 "metadata": {
  "anaconda-cloud": {},
  "celltoolbar": "Raw Cell Format",
  "kernelspec": {
   "display_name": "Python [Root]",
   "language": "python",
   "name": "Python [Root]"
  },
  "language_info": {
   "codemirror_mode": {
    "name": "ipython",
    "version": 2
   },
   "file_extension": ".py",
   "mimetype": "text/x-python",
   "name": "python",
   "nbconvert_exporter": "python",
   "pygments_lexer": "ipython2",
   "version": "2.7.12"
  }
 },
 "nbformat": 4,
 "nbformat_minor": 2
}
